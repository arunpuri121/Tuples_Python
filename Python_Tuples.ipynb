{
 "cells": [
  {
   "cell_type": "code",
   "execution_count": 1,
   "id": "32293cd6",
   "metadata": {},
   "outputs": [
    {
     "name": "stdout",
     "output_type": "stream",
     "text": [
      "(1, 2, 3, 'R', 3.4, 5.6, 'Python')\n",
      "('Arun', 'Piyush', 'Pooja', 'Sheela')\n",
      "<class 'tuple'>\n",
      "<class 'tuple'>\n"
     ]
    }
   ],
   "source": [
    "t1=(1,2,3,\"R\",3.4,5.6,\"Python\")\n",
    "t2=(\"Arun\",\"Piyush\",\"Pooja\",\"Sheela\")\n",
    "print(t1)\n",
    "print(t2)\n",
    "print(type(t1))\n",
    "print(type(t2))"
   ]
  },
  {
   "cell_type": "code",
   "execution_count": 2,
   "id": "42542335",
   "metadata": {},
   "outputs": [
    {
     "name": "stdout",
     "output_type": "stream",
     "text": [
      "(1, 2, 3, 'R', 3.4, 5.6, 'Python')\n",
      "('Arun', 'Piyush', 'Pooja', 'Sheela')\n",
      "<class 'tuple'>\n",
      "<class 'tuple'>\n"
     ]
    }
   ],
   "source": [
    "t1= 1,2,3,\"R\",3.4,5.6,\"Python\"\n",
    "t2= \"Arun\",\"Piyush\",\"Pooja\",\"Sheela\"\n",
    "print(t1)\n",
    "print(t2)\n",
    "print(type(t1))\n",
    "print(type(t2))"
   ]
  },
  {
   "cell_type": "markdown",
   "id": "d24206b1",
   "metadata": {},
   "source": [
    "## to write tuples we have to use paranthesis or without parentesis"
   ]
  },
  {
   "cell_type": "code",
   "execution_count": 3,
   "id": "3e98879e",
   "metadata": {},
   "outputs": [
    {
     "ename": "TypeError",
     "evalue": "'tuple' object does not support item assignment",
     "output_type": "error",
     "traceback": [
      "\u001b[1;31m---------------------------------------------------------------------------\u001b[0m",
      "\u001b[1;31mTypeError\u001b[0m                                 Traceback (most recent call last)",
      "Cell \u001b[1;32mIn[3], line 1\u001b[0m\n\u001b[1;32m----> 1\u001b[0m t2[\u001b[38;5;241m-\u001b[39m\u001b[38;5;241m2\u001b[39m]\u001b[38;5;241m=\u001b[39m\u001b[38;5;124m'\u001b[39m\u001b[38;5;124mvaishnavi\u001b[39m\u001b[38;5;124m'\u001b[39m\n",
      "\u001b[1;31mTypeError\u001b[0m: 'tuple' object does not support item assignment"
     ]
    }
   ],
   "source": [
    "t2[-2]='vaishnavi'"
   ]
  },
  {
   "cell_type": "markdown",
   "id": "6db78533",
   "metadata": {},
   "source": [
    "## tuples are immutable which means canot be changed once it is created "
   ]
  },
  {
   "cell_type": "code",
   "execution_count": 4,
   "id": "702c8606",
   "metadata": {},
   "outputs": [
    {
     "ename": "TypeError",
     "evalue": "'tuple' object does not support item assignment",
     "output_type": "error",
     "traceback": [
      "\u001b[1;31m---------------------------------------------------------------------------\u001b[0m",
      "\u001b[1;31mTypeError\u001b[0m                                 Traceback (most recent call last)",
      "Cell \u001b[1;32mIn[4], line 1\u001b[0m\n\u001b[1;32m----> 1\u001b[0m t1[\u001b[38;5;241m2\u001b[39m]\u001b[38;5;241m=\u001b[39m\u001b[38;5;241m45\u001b[39m\n",
      "\u001b[1;31mTypeError\u001b[0m: 'tuple' object does not support item assignment"
     ]
    }
   ],
   "source": [
    "t1[2]=45"
   ]
  },
  {
   "cell_type": "code",
   "execution_count": 14,
   "id": "811336ff",
   "metadata": {},
   "outputs": [
    {
     "data": {
      "text/plain": [
       "['Arun', 'Piyush', 'Pooja', 'Sheela']"
      ]
     },
     "execution_count": 14,
     "metadata": {},
     "output_type": "execute_result"
    }
   ],
   "source": [
    "t3=list(t2)\n",
    "t3"
   ]
  },
  {
   "cell_type": "code",
   "execution_count": 15,
   "id": "b7f234bd",
   "metadata": {},
   "outputs": [
    {
     "data": {
      "text/plain": [
       "['Arun', 'Piyush', 'vaishnavi', 'Sheela']"
      ]
     },
     "execution_count": 15,
     "metadata": {},
     "output_type": "execute_result"
    }
   ],
   "source": [
    "t3[2]=\"vaishnavi\"\n",
    "t3"
   ]
  },
  {
   "cell_type": "markdown",
   "id": "3233f774",
   "metadata": {},
   "source": [
    "# Tuple is immutable but it can be mutable if we change the tuple into list than it can be modified"
   ]
  },
  {
   "cell_type": "code",
   "execution_count": null,
   "id": "6d57e4e2",
   "metadata": {},
   "outputs": [],
   "source": [
    "Apend"
   ]
  }
 ],
 "metadata": {
  "kernelspec": {
   "display_name": "Python 3 (ipykernel)",
   "language": "python",
   "name": "python3"
  },
  "language_info": {
   "codemirror_mode": {
    "name": "ipython",
    "version": 3
   },
   "file_extension": ".py",
   "mimetype": "text/x-python",
   "name": "python",
   "nbconvert_exporter": "python",
   "pygments_lexer": "ipython3",
   "version": "3.11.5"
  }
 },
 "nbformat": 4,
 "nbformat_minor": 5
}
